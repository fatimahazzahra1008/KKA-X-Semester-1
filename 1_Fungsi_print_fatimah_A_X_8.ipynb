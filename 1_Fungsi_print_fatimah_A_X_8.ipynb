{
  "nbformat": 4,
  "nbformat_minor": 0,
  "metadata": {
    "colab": {
      "provenance": [],
      "authorship_tag": "ABX9TyOl9BQDlaQ8RW2Sq+vCW7RN",
      "include_colab_link": true
    },
    "kernelspec": {
      "name": "python3",
      "display_name": "Python 3"
    },
    "language_info": {
      "name": "python"
    }
  },
  "cells": [
    {
      "cell_type": "markdown",
      "metadata": {
        "id": "view-in-github",
        "colab_type": "text"
      },
      "source": [
        "<a href=\"https://colab.research.google.com/github/fatimahazzahra1008/KKA-X-Semester-1/blob/main/1_Fungsi_print_fatimah_A_X_8.ipynb\" target=\"_parent\"><img src=\"https://colab.research.google.com/assets/colab-badge.svg\" alt=\"Open In Colab\"/></a>"
      ]
    },
    {
      "cell_type": "markdown",
      "source": [
        "Nama : fatimah Az'zahra\n",
        "\n",
        "Kelas : X.8\n",
        "\n",
        "No absen : 10 (sepuluh)"
      ],
      "metadata": {
        "id": "VQlLunkSe3d3"
      }
    },
    {
      "cell_type": "markdown",
      "source": [
        "#Menampilkan Teks Bebas"
      ],
      "metadata": {
        "id": "Mzx84QXYfkW6"
      }
    },
    {
      "cell_type": "code",
      "execution_count": null,
      "metadata": {
        "id": "D6ILB3L9eq_D",
        "colab": {
          "base_uri": "https://localhost:8080/"
        },
        "outputId": "ca3d61e1-233b-4613-ad63-239bece03b6f"
      },
      "outputs": [
        {
          "output_type": "stream",
          "name": "stdout",
          "text": [
            "Helo world!\n"
          ]
        }
      ],
      "source": [
        "print(\"Helo world!\")"
      ]
    },
    {
      "cell_type": "code",
      "source": [
        "print(\"Fatimah Az'zahra\")"
      ],
      "metadata": {
        "colab": {
          "base_uri": "https://localhost:8080/"
        },
        "id": "kHBijj4th0Ce",
        "outputId": "754fedfc-244c-4136-e5fd-ff6121607699"
      },
      "execution_count": null,
      "outputs": [
        {
          "output_type": "stream",
          "name": "stdout",
          "text": [
            "Fatimah Az'zahra\n"
          ]
        }
      ]
    },
    {
      "cell_type": "markdown",
      "source": [
        "#menampilkan nilai variabel"
      ],
      "metadata": {
        "id": "SchASjkiiFik"
      }
    },
    {
      "cell_type": "code",
      "source": [
        "usia = 15\n",
        "\n",
        "print(usia)"
      ],
      "metadata": {
        "colab": {
          "base_uri": "https://localhost:8080/"
        },
        "id": "xpZCQDmSiQDf",
        "outputId": "00039692-5990-4c87-9724-e66b026afb1d"
      },
      "execution_count": null,
      "outputs": [
        {
          "output_type": "stream",
          "name": "stdout",
          "text": [
            "15\n"
          ]
        }
      ]
    },
    {
      "cell_type": "code",
      "source": [
        "Nama = \"Fatimah Az'zahra\"\n",
        "\n",
        "print (Nama)"
      ],
      "metadata": {
        "colab": {
          "base_uri": "https://localhost:8080/"
        },
        "id": "QUcR0sHQjMit",
        "outputId": "80025c2a-fc5c-4a76-e670-d6aeeb8d523c"
      },
      "execution_count": null,
      "outputs": [
        {
          "output_type": "stream",
          "name": "stdout",
          "text": [
            "Fatimah Az'zahra\n"
          ]
        }
      ]
    },
    {
      "cell_type": "code",
      "source": [
        "BB=48\n",
        "print(BB)"
      ],
      "metadata": {
        "colab": {
          "base_uri": "https://localhost:8080/"
        },
        "id": "JdKqVDuzkApS",
        "outputId": "24466345-2dd2-4128-dc65-ea1616f35f36"
      },
      "execution_count": null,
      "outputs": [
        {
          "output_type": "stream",
          "name": "stdout",
          "text": [
            "48\n"
          ]
        }
      ]
    },
    {
      "cell_type": "markdown",
      "source": [
        "Menampilkan teks bebas dan nilai variabel"
      ],
      "metadata": {
        "id": "5bWZ0ycblF2j"
      }
    },
    {
      "cell_type": "code",
      "source": [
        "print (f\"perkenalkan nama saya {Nama}.\")"
      ],
      "metadata": {
        "colab": {
          "base_uri": "https://localhost:8080/"
        },
        "id": "lxvrAqpilV8x",
        "outputId": "ef66b1e2-9200-4771-f64e-5c4eb4befbac"
      },
      "execution_count": null,
      "outputs": [
        {
          "output_type": "stream",
          "name": "stdout",
          "text": [
            "perkenalkan nama saya Fatimah Az'zahra.\n"
          ]
        }
      ]
    },
    {
      "cell_type": "code",
      "source": [
        "print(f\"berat badan saya {BB}Kg.\")"
      ],
      "metadata": {
        "colab": {
          "base_uri": "https://localhost:8080/"
        },
        "id": "T80ObOezl6WV",
        "outputId": "b8cb6cfc-749e-4792-b9b1-1df60258579d"
      },
      "execution_count": null,
      "outputs": [
        {
          "output_type": "stream",
          "name": "stdout",
          "text": [
            "berat badan saya 48Kg.\n"
          ]
        }
      ]
    },
    {
      "cell_type": "code",
      "source": [
        "print(\"perkenalkan nama saya \" + Nama)"
      ],
      "metadata": {
        "colab": {
          "base_uri": "https://localhost:8080/"
        },
        "id": "WEoyZRU5m34_",
        "outputId": "a77a2c06-5d1d-4fc1-fd7f-fa9cd2ec4bd3"
      },
      "execution_count": null,
      "outputs": [
        {
          "output_type": "stream",
          "name": "stdout",
          "text": [
            "perkenalkan nama saya Fatimah Az'zahra\n"
          ]
        }
      ]
    },
    {
      "cell_type": "code",
      "source": [
        "print(\"berat badan saya\"+str(BB)+\"kg.\")"
      ],
      "metadata": {
        "colab": {
          "base_uri": "https://localhost:8080/"
        },
        "id": "4qvu-rE-nXsc",
        "outputId": "36f80f72-6422-4b9e-927d-2a501187f00d"
      },
      "execution_count": null,
      "outputs": [
        {
          "output_type": "stream",
          "name": "stdout",
          "text": [
            "berat badan saya48kg.\n"
          ]
        }
      ]
    },
    {
      "cell_type": "code",
      "source": [
        "print(\"berat badan saya\" ,BB, \"kg.\")"
      ],
      "metadata": {
        "colab": {
          "base_uri": "https://localhost:8080/"
        },
        "id": "AQh-zcvJoabk",
        "outputId": "3aeb0f7d-9aa9-4c3b-fa3c-2a72f27ce1f1"
      },
      "execution_count": null,
      "outputs": [
        {
          "output_type": "stream",
          "name": "stdout",
          "text": [
            "berat badan saya 48 kg.\n"
          ]
        }
      ]
    },
    {
      "cell_type": "markdown",
      "source": [
        "Escape character"
      ],
      "metadata": {
        "id": "IMFhnjpElTE-"
      }
    },
    {
      "cell_type": "code",
      "source": [
        "print(\"Nama:Fatimah Az'zahra\\nkelas:X.8\\nNo.absen:10\")"
      ],
      "metadata": {
        "colab": {
          "base_uri": "https://localhost:8080/"
        },
        "id": "bhocs69UiWDk",
        "outputId": "3b69b6c9-9c09-4935-a578-96069257f37d"
      },
      "execution_count": null,
      "outputs": [
        {
          "output_type": "stream",
          "name": "stdout",
          "text": [
            "Nama:Fatimah Az'zahra\n",
            "kelas:X.8\n",
            "No.absen:10\n"
          ]
        }
      ]
    },
    {
      "cell_type": "code",
      "source": [
        "print(\"\"\"Nama\\t\\t:Fatimah Az'zahra\\nkelas\\t\\t:X.8\\nNo.absen\\t:10\\n\"\"\")"
      ],
      "metadata": {
        "colab": {
          "base_uri": "https://localhost:8080/"
        },
        "id": "-M1IL1d7lYJA",
        "outputId": "65218b6d-834b-475d-9254-7be415ffa319"
      },
      "execution_count": null,
      "outputs": [
        {
          "output_type": "stream",
          "name": "stdout",
          "text": [
            "Nama\t\t:Fatimah Az'zahra\n",
            "kelas\t\t:X.8\n",
            "No.absen\t:10\n",
            "\n"
          ]
        }
      ]
    },
    {
      "cell_type": "code",
      "source": [
        "print(\"Nama: Fatimah Az'zahra\\nkelas: X.8\\nNo.absen: 29\")"
      ],
      "metadata": {
        "colab": {
          "base_uri": "https://localhost:8080/"
        },
        "id": "HUnqF23unT0Q",
        "outputId": "4ab98dbd-8ffd-4530-cb7f-ec7636458e17"
      },
      "execution_count": null,
      "outputs": [
        {
          "output_type": "stream",
          "name": "stdout",
          "text": [
            "Nama: Fatimah Az'zahra\n",
            "kelas: X.8\n",
            "No.absen: 29\n"
          ]
        }
      ]
    },
    {
      "cell_type": "markdown",
      "source": [
        "Parameter fungsi print"
      ],
      "metadata": {
        "id": "LVglISzGtnLh"
      }
    },
    {
      "cell_type": "code",
      "source": [
        "print(\"Lokasi File Tugas KKA:Local Disk C:\\\\KKA\\\\Tugas Fatimah\")"
      ],
      "metadata": {
        "colab": {
          "base_uri": "https://localhost:8080/"
        },
        "id": "2V-SdTmeo4XZ",
        "outputId": "376b1570-dbb9-4d1a-f0fb-d893ed756095"
      },
      "execution_count": null,
      "outputs": [
        {
          "output_type": "stream",
          "name": "stdout",
          "text": [
            "Lokasi File Tugas KKA:Local Disk C:\\KKA\\Tugas Fatimah\n"
          ]
        }
      ]
    },
    {
      "cell_type": "code",
      "source": [
        "Tahun=2025\n",
        "Bulan=\"Agustus\"\n",
        "Tanggal=23\n",
        "print(Tahun, Bulan, Tanggal, sep=\"-\")"
      ],
      "metadata": {
        "colab": {
          "base_uri": "https://localhost:8080/"
        },
        "id": "9nRuGOjYqyRI",
        "outputId": "341fbad7-1c23-41b5-9317-97b863fc1bd4"
      },
      "execution_count": null,
      "outputs": [
        {
          "output_type": "stream",
          "name": "stdout",
          "text": [
            "2025-Agustus-23\n"
          ]
        }
      ]
    },
    {
      "cell_type": "code",
      "source": [
        "nama_depan=\"Fatimah\"\n",
        "nama_belakang=\"Az'zahra\"\n",
        "print(nama_depan, end=\"\")\n",
        "print(nama_belakang)"
      ],
      "metadata": {
        "colab": {
          "base_uri": "https://localhost:8080/"
        },
        "id": "MA75GPO7rOkw",
        "outputId": "0357a318-4122-4461-ab1e-cd8a738989a7"
      },
      "execution_count": null,
      "outputs": [
        {
          "output_type": "stream",
          "name": "stdout",
          "text": [
            "FatimahAz'zahra\n"
          ]
        }
      ]
    },
    {
      "cell_type": "markdown",
      "source": [
        "Dinda aurin lisam"
      ],
      "metadata": {
        "id": "av9Af0U6juck"
      }
    },
    {
      "cell_type": "code",
      "source": [
        "nama_siswa_1=\"Dinda\"\n",
        "nama_siswa_2=\"Aurin\"\n",
        "nama_siswa_3=\"Lisaan\"\n",
        "\n",
        "print(nama_siswa_1)\n",
        "print(nama_siswa_2)\n",
        "print(nama_siswa_3)"
      ],
      "metadata": {
        "colab": {
          "base_uri": "https://localhost:8080/"
        },
        "id": "ccqGenljlXaR",
        "outputId": "6d887005-c489-4e6a-f23f-e9f427680ed8"
      },
      "execution_count": null,
      "outputs": [
        {
          "output_type": "stream",
          "name": "stdout",
          "text": [
            "Dinda\n",
            "Aurin\n",
            "Lisaan\n"
          ]
        }
      ]
    },
    {
      "cell_type": "code",
      "source": [
        "print(nama_siswa_3, nama_siswa_2, nama_siswa_3, nama_siswa_1, sep='/')"
      ],
      "metadata": {
        "colab": {
          "base_uri": "https://localhost:8080/"
        },
        "id": "j9MZy-VomVs5",
        "outputId": "d24fdbf6-87cb-4175-ee6f-dbed28b82466"
      },
      "execution_count": null,
      "outputs": [
        {
          "output_type": "stream",
          "name": "stdout",
          "text": [
            "Lisaan/Aurin/Lisaan/Dinda\n"
          ]
        }
      ]
    },
    {
      "cell_type": "code",
      "source": [
        "nama_siswa_4=\"Azkal\"\n",
        "nama_siswa_5=\"Hasim\"\n",
        "nama_siswa_6=\"Chilmi\"\n",
        "nama_siswa_7=\"Nova\"\n",
        "\n",
        "print(nama_siswa_6, end=\"~\")\n",
        "print(nama_siswa_4)\n",
        "print(nama_siswa_5, end=\"-\")\n",
        "print(nama_siswa_7,)\n",
        "print(nama_siswa_4, end=\"/\")\n",
        "print(nama_siswa_7, end=\"&\")\n",
        "print(nama_siswa_5)"
      ],
      "metadata": {
        "colab": {
          "base_uri": "https://localhost:8080/"
        },
        "id": "rYTWJFlioa42",
        "outputId": "52672756-c68e-4d48-9466-02e5a8898a5d"
      },
      "execution_count": null,
      "outputs": [
        {
          "output_type": "stream",
          "name": "stdout",
          "text": [
            "Chilmi~Azkal\n",
            "Hasim-Nova\n",
            "Azkal/Nova&Hasim\n"
          ]
        }
      ]
    }
  ]
}